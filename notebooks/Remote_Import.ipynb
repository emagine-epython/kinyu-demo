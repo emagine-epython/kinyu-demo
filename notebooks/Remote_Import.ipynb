{
 "cells": [
  {
   "cell_type": "markdown",
   "metadata": {},
   "source": [
    "Author: [Tony Yum](https://www.linkedin.com/in/tonyyum/)"
   ]
  },
  {
   "cell_type": "markdown",
   "metadata": {},
   "source": [
    "# Remote Importing of Python Modules\n",
    "\n",
    "## Introduction\n",
    "\n",
    "Python is an extremely dynamic and flexible language. In this demo, the goal is to show how we can use python’s path_hooks mechanism to change imports from using local filesystem to a remote source.\n",
    "\n",
    "As a bonus, this article also demonstrates creating necessary AWS resources via Cloudformation and how to remove them with a single command. There will be some basic performance analysis of the each remote source.\n",
    "\n",
    "## Why do we want remote import?\n",
    "\n",
    "But hang on a second, why are we doing this? Is it a good idea to load sources remotely?\n",
    "\n",
    "Yes, there are many reasons why it is a good idea. \n",
    "\n",
    "It allows rapid prototyping - server clusters can pick up code changes by simply bouncing the server or even importlib.reload\n",
    "Code sharing - developer could create a simple script that reproduce an issue or demo and ask someone else to take a look by simply running against the repro staging area.\n",
    "UAT staging area can contain only scripts ready to be shipped and testing jobs can run against UAT and backed by production source.\n",
    "Hot fixes - production source can have an empty hotfix db sitting in front of it so that when an urgent bug fix is required, one only needs to move that script into the hotfix source db.\n",
    "Time travelling - we could add a source marker to define a version or point in time, such that all imports would happen as if we have time travelled.\n",
    "\n",
    "## Other Concerns\n",
    "\n",
    "**Wouldn’t it be slow?**\n",
    "\n",
    "Yes it would be slower, but as the demo later shows, using an in-memory cache such as Redis yields great performance. We must also not forget that in comparison to having to build a new container or other deployment strategy, it is much faster.\n",
    "\n",
    "**How do you control production source?**\n",
    "\n",
    "Developers should not have write permissions to prod source. There must be a testing and approval procedure and an AWS lambda with permission would do the release.\n",
    "\n",
    "**How do we role back?**\n",
    "\n",
    "Time travel by changing the source marker. Or add a rollback button on the approval ticket.\n",
    "\n",
    "**How is this better than Git**\n",
    "\n",
    "There is no competition. Developer would still be using Git to source control. Production should contain only head version, UAT staging area should contain certain branch from Git, etc..."
   ]
  },
  {
   "cell_type": "markdown",
   "metadata": {},
   "source": [
    "## Imports"
   ]
  },
  {
   "cell_type": "code",
   "execution_count": 66,
   "metadata": {},
   "outputs": [],
   "source": [
    "import sys\n",
    "import importlib.abc\n",
    "import types\n",
    "import s3fs\n",
    "import ast\n",
    "import importlib\n",
    "import imp\n",
    "import s3fs\n",
    "import boto3\n",
    "import time\n",
    "import redis\n",
    "import os\n",
    "from importlib.abc import MetaPathFinder\n",
    "from importlib.machinery import ModuleSpec\n",
    "from datetime import datetime\n",
    "import matplotlib.pyplot as plt\n",
    "%matplotlib inline"
   ]
  },
  {
   "cell_type": "markdown",
   "metadata": {},
   "source": [
    "## Create our resources for the Demo\n",
    "\n",
    "We will use Cloudformation to create the resources we need for this demo.\n",
    "\n",
    "Specifically we will create the following:\n",
    "\n",
    " * S3 Bucket\n",
    " * DynamoDB\n",
    " * Redis under ElasticCache"
   ]
  },
  {
   "cell_type": "code",
   "execution_count": 21,
   "metadata": {},
   "outputs": [],
   "source": [
    "STACK_DEF = '''AWSTemplateFormatVersion: \"2010-09-09\"\n",
    "Resources:\n",
    "'''"
   ]
  },
  {
   "cell_type": "markdown",
   "metadata": {},
   "source": [
    "### S3"
   ]
  },
  {
   "cell_type": "code",
   "execution_count": 22,
   "metadata": {},
   "outputs": [],
   "source": [
    "STACK_DEF += '''\n",
    "  s3:\n",
    "    Type: AWS::S3::Bucket\n",
    "    DeletionPolicy: Delete\n",
    "    Properties:\n",
    "      BucketName: kinyu-demo-src\n",
    "'''"
   ]
  },
  {
   "cell_type": "markdown",
   "metadata": {},
   "source": [
    "### DynamoDB"
   ]
  },
  {
   "cell_type": "code",
   "execution_count": 23,
   "metadata": {},
   "outputs": [],
   "source": [
    "STACK_DEF += '''\n",
    "  dynamodb: \n",
    "    Type: AWS::DynamoDB::Table\n",
    "    Properties: \n",
    "      AttributeDefinitions:\n",
    "        - \n",
    "          AttributeName: \"path\"\n",
    "          AttributeType: \"S\"\n",
    "      KeySchema: \n",
    "        - \n",
    "          AttributeName: \"path\"\n",
    "          KeyType: \"HASH\"\n",
    "      ProvisionedThroughput: \n",
    "        ReadCapacityUnits: \"5\"\n",
    "        WriteCapacityUnits: \"5\"\n",
    "      TableName: kinyu-demo-src\n",
    "'''\n"
   ]
  },
  {
   "cell_type": "markdown",
   "metadata": {},
   "source": [
    "### Redis Cache\n",
    "\n",
    "Note that the VpcSecurityGroupIds is set to *sg-0ce5339b18f038bbd* just because I already have this setup.\n",
    "\n",
    "You could easily have created the security group as part of the cloudformation YAML.\n",
    "\n",
    "Just ensure that port 6379 is open for inbound traffic."
   ]
  },
  {
   "cell_type": "code",
   "execution_count": 24,
   "metadata": {},
   "outputs": [],
   "source": [
    "STACK_DEF += '''\n",
    "Resources:\n",
    "    redis:\n",
    "      Type: 'AWS::ElastiCache::CacheCluster'\n",
    "      Properties:\n",
    "        AutoMinorVersionUpgrade: 'true'\n",
    "        Engine: redis\n",
    "        CacheNodeType: cache.t2.micro\n",
    "        NumCacheNodes: '1'\n",
    "        VpcSecurityGroupIds: [sg-0ce5339b18f038bbd]\n",
    "        PreferredAvailabilityZone: eu-west-1c\n",
    "'''"
   ]
  },
  {
   "cell_type": "markdown",
   "metadata": {},
   "source": [
    "## Use Cloudformaton API to create the stack"
   ]
  },
  {
   "cell_type": "code",
   "execution_count": 25,
   "metadata": {},
   "outputs": [],
   "source": [
    "stack_name = 'kinyu-demo'\n",
    "client = boto3.client('cloudformation')"
   ]
  },
  {
   "cell_type": "code",
   "execution_count": 26,
   "metadata": {},
   "outputs": [
    {
     "data": {
      "text/plain": [
       "{'StackId': 'arn:aws:cloudformation:eu-west-1:499030764380:stack/kinyu-demo/c8a42dc0-e6ea-11ea-8d0d-0232a13cd4ee',\n",
       " 'ResponseMetadata': {'RequestId': '72ad1f12-1d60-47af-ba89-0e256c162de3',\n",
       "  'HTTPStatusCode': 200,\n",
       "  'HTTPHeaders': {'x-amzn-requestid': '72ad1f12-1d60-47af-ba89-0e256c162de3',\n",
       "   'content-type': 'text/xml',\n",
       "   'content-length': '380',\n",
       "   'date': 'Tue, 25 Aug 2020 15:51:04 GMT'},\n",
       "  'RetryAttempts': 0}}"
      ]
     },
     "execution_count": 26,
     "metadata": {},
     "output_type": "execute_result"
    }
   ],
   "source": [
    "res = client.create_stack(StackName=stack_name, TemplateBody=STACK_DEF)\n",
    "stack_id = res['StackId']\n",
    "res"
   ]
  },
  {
   "cell_type": "markdown",
   "metadata": {},
   "source": [
    "### Wait\n",
    "\n",
    "Now we wait for Cloudformation to setup the various resources that we need. In particule ElasticCache takes a little while to provision.\n",
    "Let's use the code below to poll for the readiness."
   ]
  },
  {
   "cell_type": "code",
   "execution_count": 27,
   "metadata": {},
   "outputs": [
    {
     "name": "stdout",
     "output_type": "stream",
     "text": [
      "(0, '15:51:07', 'CREATE_IN_PROGRESS')\n",
      "(1, '15:51:37', 'CREATE_IN_PROGRESS')\n",
      "(2, '15:52:07', 'CREATE_IN_PROGRESS')\n",
      "(3, '15:52:37', 'CREATE_IN_PROGRESS')\n",
      "(4, '15:53:07', 'CREATE_IN_PROGRESS')\n",
      "(5, '15:53:37', 'CREATE_IN_PROGRESS')\n",
      "(6, '15:54:07', 'CREATE_IN_PROGRESS')\n",
      "(7, '15:54:37', 'CREATE_COMPLETE')\n"
     ]
    }
   ],
   "source": [
    "for i in range(60):\n",
    "    res = client.describe_stack_events(StackName=stack_name)\n",
    "    status = sorted(res['StackEvents'], key=lambda x: x['Timestamp'])[-1]['ResourceStatus']\n",
    "    print((i, datetime.now().strftime('%H:%M:%S'), status))\n",
    "    \n",
    "    if status == 'CREATE_COMPLETE':\n",
    "        break\n",
    "        \n",
    "    if status == 'ROLLBACK_COMPLETE':\n",
    "        raise Exception('Failed to create stack: ' + stack_name)\n",
    "\n",
    "    time.sleep(30)"
   ]
  },
  {
   "cell_type": "markdown",
   "metadata": {},
   "source": [
    "## Demo Scripts\n",
    "\n",
    "We now define a bunch of demo scripts that would be placed at a remote location."
   ]
  },
  {
   "cell_type": "code",
   "execution_count": 2,
   "metadata": {},
   "outputs": [],
   "source": [
    "folders = ['foo', 'foo/bar']\n",
    "\n",
    "scripts = [\n",
    "    ('foo/__init__.py', ''),\n",
    "    ('foo/module1.py', '''\n",
    "    \n",
    "def add(x, y):\n",
    "    return x + y\n",
    "    \n",
    "    '''),\n",
    "    ('foo/module2.py', '''\n",
    "    \n",
    "def subtract(x, y):\n",
    "    return x - y\n",
    "    \n",
    "    '''),\n",
    "    ('foo/bar/__init__.py', ''),\n",
    "    ('foo/bar/module3.py', '''\n",
    "    \n",
    "def multiply(x, y):\n",
    "    return x * y\n",
    "    \n",
    "    '''),\n",
    "    ('foo/bar/module4.py', '''\n",
    "    \n",
    "def divide(x, y):\n",
    "    return x / y\n",
    "    \n",
    "    '''),\n",
    "    ('foo/bar/chunky.py', '''\n",
    "    \n",
    "# Just a variable with lots of 'a' in it to test loading a bigger file\n",
    "lots_of_as = '{}'\n",
    "    '''.format('a' * 10000))\n",
    "]"
   ]
  },
  {
   "cell_type": "markdown",
   "metadata": {},
   "source": [
    "### Upload scripts to S3\n",
    "\n",
    "Let's first push the scripts defined above into an S3 bucket."
   ]
  },
  {
   "cell_type": "code",
   "execution_count": 3,
   "metadata": {},
   "outputs": [],
   "source": [
    "source_base = 's3://kinyu-demo-src/home/tony.yum/'\n",
    "s3 = s3fs.S3FileSystem()"
   ]
  },
  {
   "cell_type": "code",
   "execution_count": 4,
   "metadata": {},
   "outputs": [
    {
     "name": "stdout",
     "output_type": "stream",
     "text": [
      "Writing to: s3://epython-src/home/tony.yum/foo/__init__.py\n",
      "Writing to: s3://epython-src/home/tony.yum/foo/module1.py\n",
      "Writing to: s3://epython-src/home/tony.yum/foo/module2.py\n",
      "Writing to: s3://epython-src/home/tony.yum/foo/bar/__init__.py\n",
      "Writing to: s3://epython-src/home/tony.yum/foo/bar/module3.py\n",
      "Writing to: s3://epython-src/home/tony.yum/foo/bar/module4.py\n",
      "Writing to: s3://epython-src/home/tony.yum/foo/bar/chunky.py\n"
     ]
    }
   ],
   "source": [
    "for path, code in scripts:\n",
    "    fullpath = source_base + path\n",
    "    print('Writing to: ' + fullpath)\n",
    "    with s3.open(fullpath, 'w') as f:\n",
    "        f.write(code)"
   ]
  },
  {
   "cell_type": "markdown",
   "metadata": {},
   "source": [
    "## Let's get hooked!\n",
    "\n",
    "All the setup is done. time to see how Python allows us to add a hook so that imports are loaded from the s3 bucket instead of the local file system.\n",
    "\n",
    "More infomration could be found here: https://docs.python.org/3/reference/import.html#import-hooks"
   ]
  },
  {
   "cell_type": "markdown",
   "metadata": {},
   "source": [
    "## S3CachedReader\n",
    "\n",
    "This is just a light wrapper around s3fs such that asking .exists() actually loads the script and caches it.\n",
    "\n",
    "This way after the finder asked if a script exists, the loader could ask for the script content without hitting s3 the second time."
   ]
  },
  {
   "cell_type": "code",
   "execution_count": 5,
   "metadata": {},
   "outputs": [],
   "source": [
    "class S3CachedReader:\n",
    "    script_cache = {}\n",
    "    \n",
    "    @classmethod\n",
    "    def exists(cls, fullname):\n",
    "        try:\n",
    "            cls.get_code(fullname)\n",
    "            return True\n",
    "        except FileNotFoundError:\n",
    "            return False\n",
    "        \n",
    "    @classmethod\n",
    "    def get_code(cls, fullname):\n",
    "        code = cls.script_cache.get(fullname)\n",
    "        if not code:\n",
    "            s3 = s3fs.S3FileSystem()\n",
    "            with s3.open(fullname, 'r') as f:\n",
    "                code = f.read()\n",
    "                cls.script_cache[fullname] = code\n",
    "                    \n",
    "        return code"
   ]
  },
  {
   "cell_type": "markdown",
   "metadata": {},
   "source": [
    "## S3Finder\n",
    "\n",
    "Python finder is nothing more than a class that contains the method *find_spec*.\n",
    "\n",
    "Per description in [PEP-302](https://www.python.org/dev/peps/pep-0302/) :\n",
    "\n",
    "\n",
    ">This method will be called with the fully qualified name of the module. If the finder is installed on sys.meta_path, it will receive a second argument, which is None for a top-level module, or package.__path__ for submodules or subpackages [5]. It should return a loader object if the module was found, or None if it wasn't. If find_module() raises an exception, it will be propagated to the caller, aborting the import."
   ]
  },
  {
   "cell_type": "code",
   "execution_count": 6,
   "metadata": {},
   "outputs": [],
   "source": [
    "class S3Finder(MetaPathFinder):\n",
    "    def __init__(self, base_path: str):\n",
    "        self.base_path = base_path\n",
    "        \n",
    "    def find_spec(self, fullname, path, target=None):\n",
    "        if not (fullname.startswith('foo') or fullname.startswith('django')):\n",
    "            return\n",
    "        \n",
    "        s3_path = '{}{}.py'.format(self.base_path, fullname.replace('.', '/'))\n",
    "        s3 = s3fs.S3FileSystem()\n",
    "        if S3CachedReader.exists(s3_path):\n",
    "            return ModuleSpec(fullname, S3Loader(), origin=s3_path)\n",
    "            \n",
    "        s3_path = '{}{}/__init__.py'.format(self.base_path, fullname.replace('.', '/'))\n",
    "        if (S3CachedReader.exists(s3_path)):\n",
    "            return ModuleSpec(fullname, S3Loader, origin=s3_path)\n",
    "        "
   ]
  },
  {
   "cell_type": "markdown",
   "metadata": {},
   "source": [
    "## S3Loader\n",
    "\n",
    "A Loader class implements *create_module* and *exec_module*. it is important to note that all modules are first created, then they are executed after to avoid issues with circular imports.\n",
    "\n",
    "From [PEP-302](https://www.python.org/dev/peps/pep-0302/) we see that:\n",
    "\n",
    "> This method returns the loaded module or raises an exception, preferably ImportError if an existing exception is not being propagated. If load_module() is asked to load a module that it cannot, ImportError is to be raised.\n",
    "\n",
    "There are more to read than the above, but I won't go and paste the rest here. It's all in the [PEP-302](https://www.python.org/dev/peps/pep-0302/) page."
   ]
  },
  {
   "cell_type": "code",
   "execution_count": 7,
   "metadata": {},
   "outputs": [],
   "source": [
    "class S3Loader:\n",
    "    @classmethod\n",
    "    def create_module(cls, spec):\n",
    "        name_parts = spec.name.split('.')\n",
    "        module = imp.new_module('.'.join(name_parts))\n",
    "        module.__path__ = name_parts[:-1] \n",
    "        module.__file__ = spec.origin\n",
    "        return module\n",
    "\n",
    "    @classmethod\n",
    "    def exec_module(cls, module):\n",
    "        code = S3CachedReader.get_code(module.__file__)\n",
    "        exec(code, module.__dict__)\n",
    "        return module"
   ]
  },
  {
   "cell_type": "markdown",
   "metadata": {},
   "source": [
    "## Install into sys.meta_path\n",
    "\n",
    "Let's first see what happens if we try to import a module that is not in our *PYTHONPATH*"
   ]
  },
  {
   "cell_type": "code",
   "execution_count": 8,
   "metadata": {},
   "outputs": [
    {
     "ename": "ModuleNotFoundError",
     "evalue": "No module named 'foo'",
     "output_type": "error",
     "traceback": [
      "\u001b[0;31m---------------------------------------------------------------------------\u001b[0m",
      "\u001b[0;31mModuleNotFoundError\u001b[0m                       Traceback (most recent call last)",
      "\u001b[0;32m<ipython-input-8-bfd42b7de155>\u001b[0m in \u001b[0;36m<module>\u001b[0;34m\u001b[0m\n\u001b[0;32m----> 1\u001b[0;31m \u001b[0;32mfrom\u001b[0m \u001b[0mfoo\u001b[0m\u001b[0;34m.\u001b[0m\u001b[0mmodule1\u001b[0m \u001b[0;32mimport\u001b[0m \u001b[0madd\u001b[0m\u001b[0;34m\u001b[0m\u001b[0;34m\u001b[0m\u001b[0m\n\u001b[0m",
      "\u001b[0;31mModuleNotFoundError\u001b[0m: No module named 'foo'"
     ]
    }
   ],
   "source": [
    "from foo.module1 import add"
   ]
  },
  {
   "cell_type": "markdown",
   "metadata": {},
   "source": [
    "As expected, we get *ModuleNotFoundError*. Now let's install our S3Finder in *sys.meta_path*"
   ]
  },
  {
   "cell_type": "code",
   "execution_count": 9,
   "metadata": {},
   "outputs": [],
   "source": [
    "finder = S3Finder(source_base)\n",
    "sys.meta_path.append(finder)"
   ]
  },
  {
   "cell_type": "code",
   "execution_count": 11,
   "metadata": {},
   "outputs": [
    {
     "data": {
      "text/plain": [
       "8"
      ]
     },
     "execution_count": 11,
     "metadata": {},
     "output_type": "execute_result"
    }
   ],
   "source": [
    "from foo.module1 import add\n",
    "\n",
    "add(3, 5)"
   ]
  },
  {
   "cell_type": "markdown",
   "metadata": {},
   "source": [
    "Wow! It worked. We just imported a module from S3.\n",
    "\n",
    "let's try other form of imports."
   ]
  },
  {
   "cell_type": "code",
   "execution_count": 13,
   "metadata": {},
   "outputs": [
    {
     "data": {
      "text/plain": [
       "(4, 9)"
      ]
     },
     "execution_count": 13,
     "metadata": {},
     "output_type": "execute_result"
    }
   ],
   "source": [
    "import foo.module2\n",
    "from foo.bar.module3 import *\n",
    "\n",
    "foo.module2.subtract(6, 2), multiply(3, 3)"
   ]
  },
  {
   "cell_type": "markdown",
   "metadata": {},
   "source": [
    "Exellent. It is working as expected. But what about performance?"
   ]
  },
  {
   "cell_type": "markdown",
   "metadata": {},
   "source": [
    "## Performance\n",
    "\n",
    "There is of course a trade off between the convience of loading remote modules vs performance. \n",
    "\n",
    "### S3\n",
    "\n",
    "Let's take a look at how long it takes to load all the scripts from S3."
   ]
  },
  {
   "cell_type": "code",
   "execution_count": 41,
   "metadata": {},
   "outputs": [
    {
     "name": "stdout",
     "output_type": "stream",
     "text": [
      "Time Take: 645.293.ms\n"
     ]
    }
   ],
   "source": [
    "time_taken = {}\n",
    "\n",
    "before = datetime.now()\n",
    "for path, code in scripts:\n",
    "    fullpath = source_base + path\n",
    "    with s3.open(fullpath, 'r') as f:\n",
    "        f.read()\n",
    "        \n",
    "time_taken['s3'] = (datetime.now() - before).microseconds\n",
    "print(\"Time Take: {}.ms\".format(time_taken['s3'] / 1000))"
   ]
  },
  {
   "cell_type": "markdown",
   "metadata": {},
   "source": [
    "So it took 645ms. Is that a problem? Probably not for this demo example.\n",
    "\n",
    "But what if a real system has 100 times more scripts? That'll take a minute to load all the scripts.\n",
    "\n",
    "Let's see how other remote sources perform."
   ]
  },
  {
   "cell_type": "markdown",
   "metadata": {},
   "source": [
    "### DynamoDB"
   ]
  },
  {
   "cell_type": "code",
   "execution_count": 29,
   "metadata": {},
   "outputs": [],
   "source": [
    "import boto3\n",
    "from boto3.dynamodb.conditions import Key\n",
    "\n",
    "dynamodb = boto3.resource('dynamodb')\n",
    "table = dynamodb.Table('epython')"
   ]
  },
  {
   "cell_type": "code",
   "execution_count": 30,
   "metadata": {},
   "outputs": [],
   "source": [
    "for path, code in scripts:\n",
    "    fullpath = dyanmo_base_path + path\n",
    "    table.put_item(Item={\n",
    "        'path': fullpath,\n",
    "        'code': code\n",
    "    })"
   ]
  },
  {
   "cell_type": "code",
   "execution_count": 73,
   "metadata": {},
   "outputs": [
    {
     "name": "stdout",
     "output_type": "stream",
     "text": [
      "Time Take: 38.539.ms\n"
     ]
    }
   ],
   "source": [
    "before = datetime.now()\n",
    "dyanmo_base_path = '/homedirs/tony.yum/'\n",
    "\n",
    "for path, code in scripts:\n",
    "    fullpath = dyanmo_base_path + path\n",
    "    table.query(KeyConditionExpression=Key('path').eq(fullpath))\n",
    "    \n",
    "time_taken['dynamodb'] = (datetime.now() - before).microseconds\n",
    "print(\"Time Take: {}.ms\".format(time_taken['dynamodb'] / 1000))"
   ]
  },
  {
   "cell_type": "markdown",
   "metadata": {},
   "source": [
    "DynamoDB Took only 39ms. That looks much better! Can we improve this further?"
   ]
  },
  {
   "cell_type": "markdown",
   "metadata": {},
   "source": [
    "### Redis"
   ]
  },
  {
   "cell_type": "code",
   "execution_count": 35,
   "metadata": {},
   "outputs": [],
   "source": [
    "r = redis.Redis(\n",
    "    host='kin-re-108bjvy3vtdll.bqvjwk.0001.euw1.cache.amazonaws.com',\n",
    "    port='6379'\n",
    "    )"
   ]
  },
  {
   "cell_type": "code",
   "execution_count": 44,
   "metadata": {},
   "outputs": [
    {
     "name": "stdout",
     "output_type": "stream",
     "text": [
      "Writing to: scripts/python/homedirs/tony.yum/foo/__init__.py\n",
      "Writing to: scripts/python/homedirs/tony.yum/foo/module1.py\n",
      "Writing to: scripts/python/homedirs/tony.yum/foo/module2.py\n",
      "Writing to: scripts/python/homedirs/tony.yum/foo/bar/__init__.py\n",
      "Writing to: scripts/python/homedirs/tony.yum/foo/bar/module3.py\n",
      "Writing to: scripts/python/homedirs/tony.yum/foo/bar/module4.py\n",
      "Writing to: scripts/python/homedirs/tony.yum/foo/bar/chunky.py\n"
     ]
    }
   ],
   "source": [
    "redis_base_path = 'scripts/python/homedirs/tony.yum/'\n",
    "\n",
    "for path, code in scripts:\n",
    "    fullpath = redis_base_path + path\n",
    "    print('Writing to: ' + fullpath)\n",
    "    r.set(fullpath, code)"
   ]
  },
  {
   "cell_type": "code",
   "execution_count": 45,
   "metadata": {},
   "outputs": [
    {
     "name": "stdout",
     "output_type": "stream",
     "text": [
      "Time Take: 5.179.ms\n"
     ]
    }
   ],
   "source": [
    "before = datetime.now()\n",
    "for path, code in scripts:\n",
    "    fullpath = redis_base_path + path\n",
    "    r.get(fullpath)\n",
    "time_taken['redis'] = (datetime.now() - before).microseconds\n",
    "print(\"Time Take: {}.ms\".format(time_taken['redis'] / 1000))"
   ]
  },
  {
   "cell_type": "markdown",
   "metadata": {},
   "source": [
    "Sweet! That took only 5.2ms. Now loading 100 times more scripts should take only half a second."
   ]
  },
  {
   "cell_type": "markdown",
   "metadata": {},
   "source": [
    "## Performance Conclusion"
   ]
  },
  {
   "cell_type": "code",
   "execution_count": 70,
   "metadata": {
    "jupyter": {
     "source_hidden": true
    }
   },
   "outputs": [
    {
     "name": "stdout",
     "output_type": "stream",
     "text": [
      "s3: 645.293ms\n",
      "dynamodb: 34.923ms\n",
      "redis: 5.179ms\n"
     ]
    }
   ],
   "source": [
    "print('\\n'.join(f'{k}: {v / 1000}ms' for k, v in time_taken.items()))"
   ]
  },
  {
   "cell_type": "code",
   "execution_count": 68,
   "metadata": {
    "jupyter": {
     "source_hidden": true
    }
   },
   "outputs": [
    {
     "data": {
      "image/png": "[encoded data removed]",
      "text/plain": [
       "<Figure size 432x288 with 1 Axes>"
      ]
     },
     "metadata": {},
     "output_type": "display_data"
    }
   ],
   "source": [
    "\n",
    "plt.style.use('ggplot')\n",
    "\n",
    "x = list(iter(time_taken.keys()))\n",
    "y = [x / 1000 for x in time_taken.values()]\n",
    "\n",
    "x_pos = [i for i, _ in enumerate(x)]\n",
    "\n",
    "plt.bar(x_pos, y, color='green')\n",
    "plt.xlabel(\"Script Load Performance\")\n",
    "plt.ylabel(\"Time Taken (ms)\")\n",
    "plt.title(\"Remote Script Source\")\n",
    "\n",
    "plt.xticks(x_pos, x)\n",
    "\n",
    "plt.show()"
   ]
  },
  {
   "cell_type": "markdown",
   "metadata": {},
   "source": [
    "As we can see. S3 is the slowest option while redis is fastest.\n",
    "\n",
    "However speed may not be the only consideration. There are cost, features and resistence to data loss to think about.\n",
    "\n",
    "To compare the merits of these choices is beyond this article. \n",
    "\n",
    "However I would say this. Even though redis is the fastest, it is after all an in-memory db. Which means even with its various backup strategies, there are no guarentee that committed data will not be loss (unlike s3 or dynamodb). Realistically the system would have to be setup in such a way that writes would be writting to both redis and a persistent db and only when the latter is completed would the write be considered done. Read would be just a simple read from redis. "
   ]
  },
  {
   "cell_type": "markdown",
   "metadata": {},
   "source": [
    "## What's next?"
   ]
  },
  {
   "cell_type": "markdown",
   "metadata": {},
   "source": [
    "So far I have shown how you would install an S3Finder into the meta_path.\n",
    "\n",
    "The obvious extension would be to create a generic loader for any remote source or even a union of sources.\n",
    "\n",
    "[KYDB](https://tayglobal.github.io/kinyu-demo/src/kinyu/db/) is just the API for the job.\n",
    "\n",
    "In the future, I will write about a library that leverages [KYDB](https://tayglobal.github.io/kinyu-demo/src/kinyu/db/) to allow a docker cluster to load code remotely.\n",
    "\n",
    "The cool thing is that we can experiment with ideas on this cluster without redeploying any container."
   ]
  },
  {
   "cell_type": "markdown",
   "metadata": {},
   "source": [
    "## Cleaning up\n",
    "\n",
    "Finally after we are done with our resources, we could delete them all by a simple command."
   ]
  },
  {
   "cell_type": "code",
   "execution_count": null,
   "metadata": {},
   "outputs": [],
   "source": [
    "client.delete_stack(StackName=stack_name)"
   ]
  }
 ],
 "metadata": {
  "kernelspec": {
   "display_name": "Python 3",
   "language": "python",
   "name": "python3"
  },
  "language_info": {
   "codemirror_mode": {
    "name": "ipython",
    "version": 3
   },
   "file_extension": ".py",
   "mimetype": "text/x-python",
   "name": "python",
   "nbconvert_exporter": "python",
   "pygments_lexer": "ipython3",
   "version": "3.8.5"
  }
 },
 "nbformat": 4,
 "nbformat_minor": 4
}
